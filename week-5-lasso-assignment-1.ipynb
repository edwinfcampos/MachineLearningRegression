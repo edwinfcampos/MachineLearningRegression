{
 "cells": [
  {
   "cell_type": "markdown",
   "metadata": {},
   "source": [
    "# Regression Week 5: Feature Selection and LASSO (Interpretation)"
   ]
  },
  {
   "cell_type": "markdown",
   "metadata": {},
   "source": [
    "In this notebook, you will use LASSO to select features, building on a pre-implemented solver for LASSO (using GraphLab Create, though you can use other solvers). You will:\n",
    "* Run LASSO with different L1 penalties.\n",
    "* Choose best L1 penalty using a validation set.\n",
    "* Choose best L1 penalty using a validation set, with additional constraint on the size of subset.\n",
    "\n",
    "In the second notebook, you will implement your own LASSO solver, using coordinate descent. "
   ]
  },
  {
   "cell_type": "markdown",
   "metadata": {},
   "source": [
    "# Fire up graphlab create"
   ]
  },
  {
   "cell_type": "code",
   "execution_count": 1,
   "metadata": {
    "collapsed": true
   },
   "outputs": [],
   "source": [
    "import graphlab"
   ]
  },
  {
   "cell_type": "markdown",
   "metadata": {},
   "source": [
    "# Load in house sales data\n",
    "\n",
    "Dataset is from house sales in King County, the region where the city of Seattle, WA is located."
   ]
  },
  {
   "cell_type": "code",
   "execution_count": 2,
   "metadata": {
    "collapsed": false,
    "scrolled": true
   },
   "outputs": [
    {
     "name": "stderr",
     "output_type": "stream",
     "text": [
      "[INFO] \u001b[1;32m1452789490 : INFO:     (initialize_globals_from_environment:282): Setting configuration variable GRAPHLAB_FILEIO_ALTERNATIVE_SSL_CERT_FILE to /Users/administrator/.graphlab/anaconda/lib/python2.7/site-packages/certifi/cacert.pem\n",
      "\u001b[0m\u001b[1;32m1452789490 : INFO:     (initialize_globals_from_environment:282): Setting configuration variable GRAPHLAB_FILEIO_ALTERNATIVE_SSL_CERT_DIR to \n",
      "\u001b[0mThis non-commercial license of GraphLab Create is assigned to edwinfcampos@aol.com and will expire on December 04, 2016. For commercial licensing options, visit https://dato.com/buy/.\n",
      "\n",
      "[INFO] Start server at: ipc:///tmp/graphlab_server-58384 - Server binary: /Users/administrator/.graphlab/anaconda/lib/python2.7/site-packages/graphlab/unity_server - Server log: /tmp/graphlab_server_1452789490.log\n",
      "[INFO] GraphLab Server Version: 1.7.1\n"
     ]
    }
   ],
   "source": [
    "sales = graphlab.SFrame('kc_house_data.gl/')"
   ]
  },
  {
   "cell_type": "markdown",
   "metadata": {},
   "source": [
    "# Create new features"
   ]
  },
  {
   "cell_type": "markdown",
   "metadata": {},
   "source": [
    "As in Week 2, we consider features that are some transformations of inputs."
   ]
  },
  {
   "cell_type": "code",
   "execution_count": 3,
   "metadata": {
    "collapsed": true
   },
   "outputs": [],
   "source": [
    "from math import log, sqrt\n",
    "sales['sqft_living_sqrt'] = sales['sqft_living'].apply(sqrt)\n",
    "sales['sqft_lot_sqrt'] = sales['sqft_lot'].apply(sqrt)\n",
    "sales['bedrooms_square'] = sales['bedrooms']*sales['bedrooms']\n",
    "\n",
    "# In the dataset, 'floors' was defined with type string, \n",
    "# so we'll convert them to float, before creating a new feature.\n",
    "sales['floors'] = sales['floors'].astype(float) \n",
    "sales['floors_square'] = sales['floors']*sales['floors']"
   ]
  },
  {
   "cell_type": "markdown",
   "metadata": {},
   "source": [
    "* Squaring bedrooms will increase the separation between not many bedrooms (e.g. 1) and lots of bedrooms (e.g. 4) since 1^2 = 1 but 4^2 = 16. Consequently this variable will mostly affect houses with many bedrooms.\n",
    "* On the other hand, taking square root of sqft_living will decrease the separation between big house and small house. The owner may not be exactly twice as happy for getting a house that is twice as big."
   ]
  },
  {
   "cell_type": "markdown",
   "metadata": {},
   "source": [
    "# Learn regression weights with L1 penalty"
   ]
  },
  {
   "cell_type": "markdown",
   "metadata": {},
   "source": [
    "Let us fit a model with all the features available, plus the features we just created above."
   ]
  },
  {
   "cell_type": "code",
   "execution_count": 4,
   "metadata": {
    "collapsed": false
   },
   "outputs": [],
   "source": [
    "all_features = ['bedrooms', 'bedrooms_square',\n",
    "            'bathrooms',\n",
    "            'sqft_living', 'sqft_living_sqrt',\n",
    "            'sqft_lot', 'sqft_lot_sqrt',\n",
    "            'floors', 'floors_square',\n",
    "            'waterfront', 'view', 'condition', 'grade',\n",
    "            'sqft_above',\n",
    "            'sqft_basement',\n",
    "            'yr_built', 'yr_renovated']"
   ]
  },
  {
   "cell_type": "markdown",
   "metadata": {},
   "source": [
    "Applying L1 penalty requires adding an extra parameter (`l1_penalty`) to the linear regression call in GraphLab Create. (Other tools may have separate implementations of LASSO.)  Note that it's important to set `l2_penalty=0` to ensure we don't introduce an additional L2 penalty."
   ]
  },
  {
   "cell_type": "code",
   "execution_count": 5,
   "metadata": {
    "collapsed": false
   },
   "outputs": [
    {
     "name": "stdout",
     "output_type": "stream",
     "text": [
      "PROGRESS: Linear regression:\n",
      "PROGRESS: --------------------------------------------------------\n",
      "PROGRESS: Number of examples          : 21613\n",
      "PROGRESS: Number of features          : 17\n",
      "PROGRESS: Number of unpacked features : 17\n",
      "PROGRESS: Number of coefficients    : 18\n",
      "PROGRESS: Starting Accelerated Gradient (FISTA)\n",
      "PROGRESS: --------------------------------------------------------\n",
      "PROGRESS: +-----------+----------+-----------+--------------+--------------------+---------------+\n",
      "PROGRESS: | Iteration | Passes   | Step size | Elapsed Time | Training-max_error | Training-rmse |\n",
      "PROGRESS: +-----------+----------+-----------+--------------+--------------------+---------------+\n",
      "PROGRESS: Tuning step size. First iteration could take longer than subsequent iterations.\n",
      "PROGRESS: | 1         | 2        | 0.000002  | 1.493168     | 6962915.603493     | 426631.749026 |\n",
      "PROGRESS: | 2         | 3        | 0.000002  | 1.544067     | 6843144.200219     | 392488.929838 |\n",
      "PROGRESS: | 3         | 4        | 0.000002  | 1.587530     | 6831900.032123     | 385340.166783 |\n",
      "PROGRESS: | 4         | 5        | 0.000002  | 1.631643     | 6847166.848958     | 384842.383767 |\n",
      "PROGRESS: | 5         | 6        | 0.000002  | 1.670633     | 6869667.895833     | 385998.458623 |\n",
      "PROGRESS: | 6         | 7        | 0.000002  | 1.709679     | 6847177.773672     | 380824.455891 |\n",
      "PROGRESS: +-----------+----------+-----------+--------------+--------------------+---------------+\n",
      "PROGRESS: TERMINATED: Iteration limit reached.\n",
      "PROGRESS: This model may not be optimal. To improve it, consider increasing `max_iterations`.\n"
     ]
    }
   ],
   "source": [
    "model_all = graphlab.linear_regression.create(sales, target='price', features=all_features,\n",
    "                                              validation_set=None, \n",
    "                                              l2_penalty=0., l1_penalty=1e10)"
   ]
  },
  {
   "cell_type": "markdown",
   "metadata": {},
   "source": [
    "Find what features had non-zero weight."
   ]
  },
  {
   "cell_type": "code",
   "execution_count": 6,
   "metadata": {
    "collapsed": false
   },
   "outputs": [
    {
     "name": "stdout",
     "output_type": "stream",
     "text": [
      "[274873.0559504957, 0.0, 0.0, 8468.531086910072, 24.420720982445214, 350.0605533860648, 0.0, 0.0, 0.0, 0.0, 0.0, 0.0, 0.0, 842.0680348976282, 20.024722417091304, 0.0, 0.0, 0.0]\n"
     ]
    }
   ],
   "source": [
    "model_coeff_lasso = model_all.coefficients['value']\n",
    "print model_coeff_lasso"
   ]
  },
  {
   "cell_type": "code",
   "execution_count": 7,
   "metadata": {
    "collapsed": false
   },
   "outputs": [
    {
     "name": "stdout",
     "output_type": "stream",
     "text": [
      "['1' 'bedrooms' 'bedrooms_square' 'bathrooms' 'sqft_living'\n",
      " 'sqft_living_sqrt' 'sqft_lot' 'sqft_lot_sqrt' 'floors' 'floors_square'\n",
      " 'waterfront' 'view' 'condition' 'grade' 'sqft_above' 'sqft_basement'\n",
      " 'yr_built' 'yr_renovated']\n"
     ]
    }
   ],
   "source": [
    "import numpy as np\n",
    "model_features_lasso = np.hstack([['1'],all_features])\n",
    "print model_features_lasso"
   ]
  },
  {
   "cell_type": "code",
   "execution_count": 8,
   "metadata": {
    "collapsed": false
   },
   "outputs": [
    {
     "name": "stdout",
     "output_type": "stream",
     "text": [
      "number of nonzero coefficients = 6\n",
      "... in a model with 17 features\n"
     ]
    }
   ],
   "source": [
    "print 'number of nonzero coefficients = %d' % (model_all.coefficients['value']).nnz()\n",
    "deg = len(model_all.coefficients['value'])-1\n",
    "print '... in a model with ' + str(deg) + ' features'"
   ]
  },
  {
   "cell_type": "markdown",
   "metadata": {},
   "source": [
    "Note that a majority of the weights have been set to zero. So by setting an L1 penalty that's large enough, we are performing a subset selection. \n",
    "\n",
    "***QUIZ QUESTION***:\n",
    "According to this list of weights, which of the features have been chosen? "
   ]
  },
  {
   "cell_type": "code",
   "execution_count": 10,
   "metadata": {
    "collapsed": false
   },
   "outputs": [
    {
     "name": "stdout",
     "output_type": "stream",
     "text": [
      "0 1\n",
      "3 bathrooms\n",
      "4 sqft_living\n",
      "5 sqft_living_sqrt\n",
      "13 grade\n",
      "14 sqft_above\n"
     ]
    }
   ],
   "source": [
    "# Recall that model_coeff_lasso[0] corresponds to the constant_one = model_features_lasso[0] \n",
    "# Recall that model_coeff_lasso[1] corresponds to all_features[0] = model_features_lasso[1] \n",
    "for i in xrange(len(model_coeff_lasso)):\n",
    "    if model_coeff_lasso[i] != 0.0:\n",
    "        print i, model_features_lasso[i]"
   ]
  },
  {
   "cell_type": "markdown",
   "metadata": {},
   "source": [
    "# Selecting an L1 penalty"
   ]
  },
  {
   "cell_type": "markdown",
   "metadata": {},
   "source": [
    "To find a good L1 penalty, we will explore multiple values using a validation set. Let us do three way split into train, validation, and test sets:\n",
    "* Split our sales data into 2 sets: training and test\n",
    "* Further split our training data into two sets: train, validation\n",
    "\n",
    "Be *very* careful that you use seed = 1 to ensure you get the same answer!"
   ]
  },
  {
   "cell_type": "code",
   "execution_count": 11,
   "metadata": {
    "collapsed": true
   },
   "outputs": [],
   "source": [
    "(training_and_validation, testing) = sales.random_split(.9,seed=1) # initial train/test split\n",
    "(training, validation) = training_and_validation.random_split(0.5, seed=1) # split training into train and validate"
   ]
  },
  {
   "cell_type": "code",
   "execution_count": 12,
   "metadata": {
    "collapsed": true
   },
   "outputs": [],
   "source": [
    "def get_numpy_data(data_sframe, features, output):\n",
    "    data_sframe['constant'] = 1 # this is how you add a constant column to an SFrame\n",
    "    # add the column 'constant' to the front of the features list so that we can extract it along with the others:\n",
    "    features = ['constant'] + features # this is how you combine two lists\n",
    "    # select the columns of data_SFrame given by the features list into the SFrame features_sframe (now including constant):\n",
    "    features_sframe = data_sframe[features]\n",
    "    # the following line will convert the features_SFrame into a numpy matrix:\n",
    "    feature_matrix = features_sframe.to_numpy()\n",
    "    # assign the column of data_sframe associated with the output to the SArray output_sarray\n",
    "    output_sarray = data_sframe[output]\n",
    "    # the following will convert the SArray into a numpy array by first converting it to a list\n",
    "    output_array = output_sarray.to_numpy()\n",
    "    return(feature_matrix, output_array)"
   ]
  },
  {
   "cell_type": "code",
   "execution_count": 13,
   "metadata": {
    "collapsed": true
   },
   "outputs": [],
   "source": [
    "(testing_feature_matrix, testing_output) = get_numpy_data(testing, all_features, 'price')\n",
    "(training_feature_matrix, train_output) = get_numpy_data(training, all_features, 'price')\n",
    "(validation_feature_matrix, validation_output) = get_numpy_data(validation, all_features, 'price')"
   ]
  },
  {
   "cell_type": "markdown",
   "metadata": {},
   "source": [
    "Next, we write a loop that does the following:\n",
    "* For `l1_penalty` in [10^1, 10^1.5, 10^2, 10^2.5, ..., 10^7] (to get this in Python, type `np.logspace(1, 7, num=13)`.)\n",
    "    * Fit a regression model with a given `l1_penalty` on TRAIN data. Specify `l1_penalty=l1_penalty` and `l2_penalty=0.` in the parameter list.\n",
    "    * Compute the RSS on VALIDATION data (here you will want to use `.predict()`) for that `l1_penalty`\n",
    "* Report which `l1_penalty` produced the lowest RSS on validation data.\n",
    "\n",
    "When you call `linear_regression.create()` make sure you set `validation_set = None`.\n",
    "\n",
    "Note: you can turn off the print out of `linear_regression.create()` with `verbose = False`"
   ]
  },
  {
   "cell_type": "code",
   "execution_count": 14,
   "metadata": {
    "collapsed": false
   },
   "outputs": [],
   "source": [
    "import numpy as np\n",
    "l1_penalty_values = np.logspace(1, 7, num=13)\n",
    "#RSS_validation = np.empty(len(l1_penalty_values))\n",
    "RSS_validation = dict()"
   ]
  },
  {
   "cell_type": "code",
   "execution_count": 15,
   "metadata": {
    "collapsed": false
   },
   "outputs": [
    {
     "name": "stdout",
     "output_type": "stream",
     "text": [
      "RSS on VALIDATION data, l1 = 6.25766285142e+14 10.0\n",
      "RSS on VALIDATION data, l1 = 6.25766285362e+14 31.6227766017\n",
      "RSS on VALIDATION data, l1 = 6.25766286058e+14 100.0\n",
      "RSS on VALIDATION data, l1 = 6.25766288257e+14 316.227766017\n",
      "RSS on VALIDATION data, l1 = 6.25766295212e+14 1000.0\n",
      "RSS on VALIDATION data, l1 = 6.25766317206e+14 3162.27766017\n",
      "RSS on VALIDATION data, l1 = 6.25766386761e+14 10000.0\n",
      "RSS on VALIDATION data, l1 = 6.25766606749e+14 31622.7766017\n",
      "RSS on VALIDATION data, l1 = 6.25767302792e+14 100000.0\n",
      "RSS on VALIDATION data, l1 = 6.25769507644e+14 316227.766017\n",
      "RSS on VALIDATION data, l1 = 6.25776517727e+14 1000000.0\n",
      "RSS on VALIDATION data, l1 = 6.25799062845e+14 3162277.66017\n",
      "RSS on VALIDATION data, l1 = 6.25883719085e+14 10000000.0\n"
     ]
    }
   ],
   "source": [
    "for l1_penalty in l1_penalty_values:\n",
    "    # Fit a regression model for a given l1 penalty on train data\n",
    "    model_weights_training_l1 = graphlab.linear_regression.create(training, target='price', features=all_features,\n",
    "                                              validation_set=None, verbose = False,\n",
    "                                              l2_penalty=0., l1_penalty=l1_penalty)\n",
    "    \n",
    "    # Compute the RSS for a given l1 penalty on validation data\n",
    "    # Recall that .predict uses an SFrame as input\n",
    "    validation_model_weights_predictions = model_weights_training_l1.predict(validation)   # This inputs SFrames\n",
    "    #validation_model_weights_predictions = np.dot(validation_feature_matrix, model_weights_training_l1)  # This inputs numpy arrays/matrices\n",
    "    # Compute the residuals/errors\n",
    "    residuals = validation_output - validation_model_weights_predictions\n",
    "    # Then square and add them up\n",
    "    residuals_square = residuals * residuals\n",
    "    RSS = residuals_square.sum()\n",
    "    RSS_validation.update({l1_penalty:RSS})\n",
    "    print 'RSS on VALIDATION data, l1 =',RSS, l1_penalty"
   ]
  },
  {
   "cell_type": "markdown",
   "metadata": {},
   "source": [
    "*** QUIZ QUESTIONS ***\n",
    "1. What was the best value for the `l1_penalty`?\n",
    "2. What is the RSS on TEST data of the model with the best `l1_penalty`?"
   ]
  },
  {
   "cell_type": "code",
   "execution_count": 16,
   "metadata": {
    "collapsed": false
   },
   "outputs": [
    {
     "name": "stdout",
     "output_type": "stream",
     "text": [
      "The lowest RSS using optimal L1 penalty and validation data corresponds to ...\n",
      "L1 penalty 10.0\n",
      "and RSS 6.25766285142e+14\n"
     ]
    }
   ],
   "source": [
    "optimal_l1_penalty = min(RSS_validation, key=lambda k: RSS_validation[k])\n",
    "print 'The lowest RSS using optimal L1 penalty and validation data corresponds to ...' \n",
    "print 'L1 penalty', optimal_l1_penalty\n",
    "print 'and RSS', RSS_validation[optimal_l1_penalty]"
   ]
  },
  {
   "cell_type": "code",
   "execution_count": 17,
   "metadata": {
    "collapsed": false
   },
   "outputs": [],
   "source": [
    "#optimal_RSS_validation = min(RSS_validation)  # This returns the smallest dictionary in key\n",
    "#print 'The lowest RSS using optimal L1 penalty and validation data corresponds to RSS', RSS_validation[optimal_RSS_validation]"
   ]
  },
  {
   "cell_type": "code",
   "execution_count": 18,
   "metadata": {
    "collapsed": false
   },
   "outputs": [
    {
     "name": "stdout",
     "output_type": "stream",
     "text": [
      "RSS on TEST data, best L1 penalty= 6.25883719085e+14 , 10.0\n"
     ]
    }
   ],
   "source": [
    "# Compute the RSS for the best l1 penalty on TEST data\n",
    "# Fit a regression model for a given l1 penalty on train data\n",
    "model_weights_training_bestl1 = graphlab.linear_regression.create(training, target='price', features=all_features,\n",
    "                                              validation_set=None, verbose = False,\n",
    "                                              l2_penalty=0., l1_penalty=optimal_l1_penalty)   \n",
    "# Recall that .predict uses an SFrame as input\n",
    "test_model_weights_predictions = model_weights_training_bestl1.predict(testing)   # This inputs SFrames\n",
    "# Compute the residuals/errors\n",
    "residuals = testing_output - test_model_weights_predictions\n",
    "# Then square and add them up\n",
    "residuals_square = residuals * residuals\n",
    "RSS_test = residuals_square.sum()\n",
    "print 'RSS on TEST data, best L1 penalty=',RSS,',', optimal_l1_penalty"
   ]
  },
  {
   "cell_type": "markdown",
   "metadata": {},
   "source": [
    "***QUIZ QUESTION***\n",
    "Also, using this value of L1 penalty, how many nonzero weights do you have?"
   ]
  },
  {
   "cell_type": "code",
   "execution_count": 19,
   "metadata": {
    "collapsed": false
   },
   "outputs": [
    {
     "name": "stdout",
     "output_type": "stream",
     "text": [
      "number of nonzero coefficients = 18\n",
      "... in a model with 17 features\n"
     ]
    }
   ],
   "source": [
    "print 'number of nonzero coefficients = %d' % (model_weights_training_bestl1.coefficients['value']).nnz()\n",
    "deg_bestL1 = len(model_weights_training_bestl1.coefficients['value'])-1\n",
    "print '... in a model with ' + str(deg_bestL1) + ' features'"
   ]
  },
  {
   "cell_type": "code",
   "execution_count": 20,
   "metadata": {
    "collapsed": false
   },
   "outputs": [],
   "source": [
    "#print model_weights_training_bestl1.coefficients['value']"
   ]
  },
  {
   "cell_type": "markdown",
   "metadata": {},
   "source": [
    "# Limit the number of nonzero weights\n",
    "\n",
    "What if we absolutely wanted to limit ourselves to, say, 7 features? This may be important if we want to derive \"a rule of thumb\" --- an interpretable model that has only a few features in them."
   ]
  },
  {
   "cell_type": "markdown",
   "metadata": {},
   "source": [
    "In this section, you are going to implement a simple, two phase procedure to achive this goal:\n",
    "1. Explore a large range of `l1_penalty` values to find a narrow region of `l1_penalty` values where models are likely to have the desired number of non-zero weights.\n",
    "2. Further explore the narrow region you found to find a good value for `l1_penalty` that achieves the desired sparsity.  Here, we will again use a validation set to choose the best value for `l1_penalty`."
   ]
  },
  {
   "cell_type": "code",
   "execution_count": 21,
   "metadata": {
    "collapsed": true
   },
   "outputs": [],
   "source": [
    "max_nonzeros = 7"
   ]
  },
  {
   "cell_type": "markdown",
   "metadata": {},
   "source": [
    "## Exploring the larger range of values to find a narrow range with the desired sparsity\n",
    "\n",
    "Let's define a wide range of possible `l1_penalty_values`:"
   ]
  },
  {
   "cell_type": "code",
   "execution_count": 22,
   "metadata": {
    "collapsed": false
   },
   "outputs": [],
   "source": [
    "l1_penalty_values = np.logspace(8, 10, num=20)"
   ]
  },
  {
   "cell_type": "markdown",
   "metadata": {},
   "source": [
    "Now, implement a loop that search through this space of possible `l1_penalty` values:\n",
    "\n",
    "* For `l1_penalty` in `np.logspace(8, 10, num=20)`:\n",
    "    * Fit a regression model with a given `l1_penalty` on TRAIN data. Specify `l1_penalty=l1_penalty` and `l2_penalty=0.` in the parameter list. When you call `linear_regression.create()` make sure you set `validation_set = None`\n",
    "    * Extract the weights of the model and count the number of nonzeros. Save the number of nonzeros to a list.\n",
    "        * *Hint: `model['coefficients']['value']` gives you an SArray with the parameters you learned.  If you call the method `.nnz()` on it, you will find the number of non-zero parameters!* "
   ]
  },
  {
   "cell_type": "code",
   "execution_count": 23,
   "metadata": {
    "collapsed": false
   },
   "outputs": [
    {
     "name": "stdout",
     "output_type": "stream",
     "text": [
      "number of nonzero coefficients = 18\n",
      "number of nonzero coefficients = 18\n",
      "number of nonzero coefficients = 18\n",
      "number of nonzero coefficients = 18\n",
      "number of nonzero coefficients = 17\n",
      "number of nonzero coefficients = 17\n",
      "number of nonzero coefficients = 17\n",
      "number of nonzero coefficients = 17\n",
      "number of nonzero coefficients = 17\n",
      "number of nonzero coefficients = 16\n",
      "number of nonzero coefficients = 15\n",
      "number of nonzero coefficients = 15\n",
      "number of nonzero coefficients = 13\n",
      "number of nonzero coefficients = 12\n",
      "number of nonzero coefficients = 10\n",
      "number of nonzero coefficients = 6\n",
      "number of nonzero coefficients = 5\n",
      "number of nonzero coefficients = 3\n",
      "number of nonzero coefficients = 1\n",
      "number of nonzero coefficients = 1\n"
     ]
    }
   ],
   "source": [
    "numberofnonzeros = []  # Empty list\n",
    "for l1_penalty in l1_penalty_values:\n",
    "    # Fit a regression model for a given l1 penalty on train data\n",
    "    model_weights_training_l1 = graphlab.linear_regression.create(training, target='price', features=all_features,\n",
    "                                              validation_set=None, verbose = False,\n",
    "                                              l2_penalty=0., l1_penalty=l1_penalty)\n",
    "    n_nonzeros_inmodel = (model_weights_training_l1.coefficients['value']).nnz()\n",
    "    numberofnonzeros.append(n_nonzeros_inmodel)\n",
    "    print 'number of nonzero coefficients = %d' % n_nonzeros_inmodel    \n",
    "    #model_weights_training_l1['coefficients']['value']"
   ]
  },
  {
   "cell_type": "code",
   "execution_count": 24,
   "metadata": {
    "collapsed": false
   },
   "outputs": [
    {
     "name": "stdout",
     "output_type": "stream",
     "text": [
      "[18, 18, 18, 18, 17, 17, 17, 17, 17, 16, 15, 15, 13, 12, 10, 6, 5, 3, 1, 1]\n"
     ]
    }
   ],
   "source": [
    "print numberofnonzeros"
   ]
  },
  {
   "cell_type": "markdown",
   "metadata": {},
   "source": [
    "Out of this large range, we want to find the two ends of our desired narrow range of `l1_penalty`.  At one end, we will have `l1_penalty` values that have too few non-zeros, and at the other end, we will have an `l1_penalty` that has too many non-zeros.  \n",
    "\n",
    "More formally, find:\n",
    "* The largest `l1_penalty` that has more non-zeros than `max_nonzero` (if we pick a penalty smaller than this value, we will definitely have too many non-zero weights)\n",
    "    * Store this value in the variable `l1_penalty_min` (we will use it later)\n",
    "* The smallest `l1_penalty` that has fewer non-zeros than `max_nonzero` (if we pick a penalty larger than this value, we will definitely have too few non-zero weights)\n",
    "    * Store this value in the variable `l1_penalty_max` (we will use it later)\n",
    "\n",
    "\n",
    "*Hint: there are many ways to do this, e.g.:*\n",
    "* Programmatically within the loop above\n",
    "* Creating a list with the number of non-zeros for each value of `l1_penalty` and inspecting it to find the appropriate boundaries."
   ]
  },
  {
   "cell_type": "code",
   "execution_count": 25,
   "metadata": {
    "collapsed": false
   },
   "outputs": [
    {
     "name": "stdout",
     "output_type": "stream",
     "text": [
      " l1_penalty_min = 2976351441.63\n"
     ]
    }
   ],
   "source": [
    "#print numberofnonzeros, max_nonzeros\n",
    "# Recall that numberofnonzeros is a list\n",
    "nzs_nparray = np.array(numberofnonzeros)\n",
    "# index in numberofnonzeros where numberofnonzeros > max_nonzero\n",
    "nzs_boolean = np.where(nzs_nparray > max_nonzeros, True,False)\n",
    "#print nzs_boolean\n",
    "l1_penalty_min =  max(l1_penalty_values[nzs_boolean]) \n",
    "print \" l1_penalty_min =\", l1_penalty_min"
   ]
  },
  {
   "cell_type": "code",
   "execution_count": 26,
   "metadata": {
    "collapsed": false
   },
   "outputs": [
    {
     "name": "stdout",
     "output_type": "stream",
     "text": [
      " l1_penalty_max =  3792690190.73\n"
     ]
    }
   ],
   "source": [
    "# index in numberofnonzeros where numberofnonzeros < max_nonzero\n",
    "nzs_boolean = np.where(nzs_nparray < max_nonzeros, True,False)\n",
    "#print nzs_boolean\n",
    "l1_penalty_max = min(l1_penalty_values[nzs_boolean])\n",
    "#print l1_penalty_values\n",
    "print \" l1_penalty_max = \",l1_penalty_max"
   ]
  },
  {
   "cell_type": "markdown",
   "metadata": {},
   "source": [
    "***QUIZ QUESTIONS***\n",
    "\n",
    "What values did you find for `l1_penalty_min` and`l1_penalty_max`? "
   ]
  },
  {
   "cell_type": "markdown",
   "metadata": {},
   "source": [
    "## Exploring the narrow range of values to find the solution with the right number of non-zeros that has lowest RSS on the validation set \n",
    "\n",
    "We will now explore the narrow region of `l1_penalty` values we found:"
   ]
  },
  {
   "cell_type": "code",
   "execution_count": 27,
   "metadata": {
    "collapsed": true
   },
   "outputs": [],
   "source": [
    "l1_penalty_values = np.linspace(l1_penalty_min,l1_penalty_max,20)"
   ]
  },
  {
   "cell_type": "markdown",
   "metadata": {},
   "source": [
    "* For `l1_penalty` in `np.linspace(l1_penalty_min,l1_penalty_max,20)`:\n",
    "    * Fit a regression model with a given `l1_penalty` on TRAIN data. Specify `l1_penalty=l1_penalty` and `l2_penalty=0.` in the parameter list. When you call `linear_regression.create()` make sure you set `validation_set = None`\n",
    "    * Measure the RSS of the learned model on the VALIDATION set\n",
    "\n",
    "Find the model that the lowest RSS on the VALIDATION set and has sparsity *equal* to `max_nonzero`."
   ]
  },
  {
   "cell_type": "code",
   "execution_count": 28,
   "metadata": {
    "collapsed": false
   },
   "outputs": [
    {
     "name": "stdout",
     "output_type": "stream",
     "text": [
      "RSS_validation, L1, nnz = 1.04693748875e+15 3448968612.16 7\n",
      "RSS_validation, L1, nnz = 1.05114762561e+15 3491933809.48 7\n",
      "RSS_validation, L1, nnz = 1.05599273534e+15 3534899006.81 7\n",
      "RSS_validation, L1, nnz = 1.06079953176e+15 3577864204.13 7\n"
     ]
    }
   ],
   "source": [
    "#model_coeff_matrix = np.empty(len(all_features)) # Empty vector\n",
    "#numberofnonzeros = []  # Empty list\n",
    "#RSS_validation = dict() # Empty dictionary\n",
    "count = 0  # Number of models with feature sparsity = max_nonzero \n",
    "for l1_penalty in l1_penalty_values:\n",
    "    # Fit a regression model for a given l1 penalty on train data\n",
    "    model_weights_training_l1 = graphlab.linear_regression.create(training, target='price', features=all_features,\n",
    "                                              validation_set=None, verbose = False,\n",
    "                                              l2_penalty=0., l1_penalty=l1_penalty)\n",
    "    \n",
    "    # Identify the model coefficients\n",
    "    model_coeff_l1 = model_weights_training_l1.coefficients['value']    \n",
    "    # Compute the number of non-zero coefficients\n",
    "    n_nonzeros_inmodel = (model_coeff_l1).nnz()    \n",
    "    #numberofnonzeros.append(n_nonzeros_inmodel)\n",
    "    \n",
    "    # Filter in the models that have sparsity equal to max_nonzero\n",
    "    if n_nonzeros_inmodel == max_nonzeros:         \n",
    "        # Compute the RSS for a given l1 penalty on validation dataset\n",
    "        # Recall that .predict uses an SFrame as input\n",
    "        validation_model_weights_predictions = model_weights_training_l1.predict(validation)   # This inputs SFrames\n",
    "        #print model_coeff_l1\n",
    "        #validation_model_weights_predictions = np.dot(validation_feature_matrix, model_weights_training_l1)  # This inputs numpy arrays/matrices\n",
    "        # Compute the residuals/errors\n",
    "        residuals = validation_output - validation_model_weights_predictions\n",
    "        # Then square and add them up\n",
    "        residuals_square = residuals * residuals\n",
    "        RSS = residuals_square.sum()\n",
    "        #RSS_validation.update({l1_penalty:RSS})\n",
    "        print 'RSS_validation, L1, nnz =',RSS, l1_penalty, n_nonzeros_inmodel\n",
    "        \n",
    "        # Store the relevant information\n",
    "        # model coefficients_matrix = Matrix[valid_l1_index,model_feature_index]\n",
    "        # L1_vector = vector[valid_l1_index]\n",
    "        # RSS_vector = vector[valid_l1_index]\n",
    "        if count == 0:\n",
    "            model_coeff_matrix = model_coeff_l1\n",
    "            L1_vector = l1_penalty\n",
    "            RSS_vector = RSS\n",
    "        else:\n",
    "            model_coeff_matrix = np.vstack([model_coeff_matrix,model_coeff_l1])\n",
    "            L1_vector = np.hstack([L1_vector, l1_penalty])\n",
    "            RSS_vector = np.hstack([RSS_vector, RSS])\n",
    "        count += 1"
   ]
  },
  {
   "cell_type": "markdown",
   "metadata": {},
   "source": [
    "***QUIZ QUESTIONS***\n",
    "1. What value of `l1_penalty` in our narrow range has the lowest RSS on the VALIDATION set and has sparsity *equal* to `max_nonzeros`?\n",
    "2. What features in this model have non-zero coefficients?"
   ]
  },
  {
   "cell_type": "code",
   "execution_count": 29,
   "metadata": {
    "collapsed": false
   },
   "outputs": [
    {
     "name": "stdout",
     "output_type": "stream",
     "text": [
      "The lowest RSS using optimal L1 penalty and validation data corresponds to ...\n",
      "L1 penalty [  3.44896861e+09]\n",
      "and RSS [  1.04693749e+15]\n"
     ]
    }
   ],
   "source": [
    "boolean_indexes = np.where(RSS_vector == min(RSS_vector), True,False)\n",
    "print 'The lowest RSS using optimal L1 penalty and validation data corresponds to ...' \n",
    "print 'L1 penalty', L1_vector[boolean_indexes]\n",
    "print 'and RSS', RSS_vector[boolean_indexes]"
   ]
  },
  {
   "cell_type": "code",
   "execution_count": 30,
   "metadata": {
    "collapsed": false
   },
   "outputs": [
    {
     "name": "stdout",
     "output_type": "stream",
     "text": [
      "[  2.22253193e+05   6.61722718e+02   0.00000000e+00   1.58739573e+04\n",
      "   3.24102215e+01   6.90114773e+02   0.00000000e+00   0.00000000e+00\n",
      "   0.00000000e+00   0.00000000e+00   0.00000000e+00   0.00000000e+00\n",
      "   0.00000000e+00   2.89942027e+03   3.00115753e+01   0.00000000e+00\n",
      "   0.00000000e+00   0.00000000e+00]\n"
     ]
    }
   ],
   "source": [
    "model_coeff_optimal_l1 = model_coeff_matrix[boolean_indexes,:]  # This gives a 2D array of np.shape = (1, 18) \n",
    "model_coeff_optimal_l1 = model_coeff_optimal_l1[0,:]  # This gives a 1D array of np.shape = 18\n",
    "print model_coeff_optimal_l1"
   ]
  },
  {
   "cell_type": "code",
   "execution_count": 33,
   "metadata": {
    "collapsed": false
   },
   "outputs": [
    {
     "name": "stdout",
     "output_type": "stream",
     "text": [
      "['bedrooms', 'bedrooms_square', 'bathrooms', 'sqft_living', 'sqft_living_sqrt', 'sqft_lot', 'sqft_lot_sqrt', 'floors', 'floors_square', 'waterfront', 'view', 'condition', 'grade', 'sqft_above', 'sqft_basement', 'yr_built', 'yr_renovated']\n"
     ]
    }
   ],
   "source": [
    "print all_features"
   ]
  },
  {
   "cell_type": "code",
   "execution_count": 31,
   "metadata": {
    "collapsed": false
   },
   "outputs": [
    {
     "name": "stdout",
     "output_type": "stream",
     "text": [
      "['1' 'bedrooms' 'bedrooms_square' 'bathrooms' 'sqft_living'\n",
      " 'sqft_living_sqrt' 'sqft_lot' 'sqft_lot_sqrt' 'floors' 'floors_square'\n",
      " 'waterfront' 'view' 'condition' 'grade' 'sqft_above' 'sqft_basement'\n",
      " 'yr_built' 'yr_renovated']\n"
     ]
    }
   ],
   "source": [
    "model_features_optimal_l1 = np.hstack([['1'],all_features])\n",
    "print model_features_optimal_l1"
   ]
  },
  {
   "cell_type": "code",
   "execution_count": 32,
   "metadata": {
    "collapsed": false
   },
   "outputs": [
    {
     "name": "stdout",
     "output_type": "stream",
     "text": [
      "0 1\n",
      "1 bedrooms\n",
      "3 bathrooms\n",
      "4 sqft_living\n",
      "5 sqft_living_sqrt\n",
      "13 grade\n",
      "14 sqft_above\n"
     ]
    }
   ],
   "source": [
    "# Recall that model_coeff_optimal_l1[0] corresponds to the constant_one = model_features_optimal_l1[0] \n",
    "# Recall that model_coeff_optimal_l1[1] corresponds to all_features[0] = model_features_optimal_l1[1] \n",
    "for i in xrange(len(model_coeff_optimal_l1)):\n",
    "    if model_coeff_optimal_l1[i] != 0.0:\n",
    "        print i, model_features_optimal_l1[i]\n",
    "        \n",
    "#for i in xrange(len(all_features)):\n",
    "#    if model_coeff_optimal_l1[i] != 0.0:\n",
    "#        print i, all_features[i]"
   ]
  },
  {
   "cell_type": "code",
   "execution_count": null,
   "metadata": {
    "collapsed": true
   },
   "outputs": [],
   "source": []
  }
 ],
 "metadata": {
  "kernelspec": {
   "display_name": "Python 2",
   "language": "python",
   "name": "python2"
  },
  "language_info": {
   "codemirror_mode": {
    "name": "ipython",
    "version": 2
   },
   "file_extension": ".py",
   "mimetype": "text/x-python",
   "name": "python",
   "nbconvert_exporter": "python",
   "pygments_lexer": "ipython2",
   "version": "2.7.10"
  }
 },
 "nbformat": 4,
 "nbformat_minor": 0
}
