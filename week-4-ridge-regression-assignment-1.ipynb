{
 "cells": [
  {
   "cell_type": "markdown",
   "metadata": {},
   "source": [
    "# Regression Week 4: Ridge Regression (interpretation)"
   ]
  },
  {
   "cell_type": "markdown",
   "metadata": {},
   "source": [
    "In this notebook, we will run ridge regression multiple times with different L2 penalties to see which one produces the best fit. We will revisit the example of polynomial regression as a means to see the effect of L2 regularization. In particular, we will:\n",
    "* Use a pre-built implementation of regression (GraphLab Create) to run polynomial regression\n",
    "* Use matplotlib to visualize polynomial regressions\n",
    "* Use a pre-built implementation of regression (GraphLab Create) to run polynomial regression, this time with L2 penalty\n",
    "* Use matplotlib to visualize polynomial regressions under L2 regularization\n",
    "* Choose best L2 penalty using cross-validation.\n",
    "* Assess the final fit using test data.\n",
    "\n",
    "We will continue to use the House data from previous notebooks.  (In the next programming assignment for this module, you will implement your own ridge regression learning algorithm using gradient descent.)"
   ]
  },
  {
   "cell_type": "markdown",
   "metadata": {},
   "source": [
    "# Fire up graphlab create"
   ]
  },
  {
   "cell_type": "code",
   "execution_count": 1,
   "metadata": {
    "collapsed": false
   },
   "outputs": [],
   "source": [
    "import graphlab"
   ]
  },
  {
   "cell_type": "markdown",
   "metadata": {},
   "source": [
    "# Polynomial regression, revisited"
   ]
  },
  {
   "cell_type": "markdown",
   "metadata": {},
   "source": [
    "We build on the material from Week 3, where we wrote the function to produce an SFrame with columns containing the powers of a given input. Copy and paste the function `polynomial_sframe` from Week 3:"
   ]
  },
  {
   "cell_type": "code",
   "execution_count": 2,
   "metadata": {
    "collapsed": true
   },
   "outputs": [],
   "source": [
    "def polynomial_sframe(feature, degree):\n",
    "    # assume that degree >= 1\n",
    "    # initialize the SFrame:\n",
    "    poly_sframe = graphlab.SFrame()\n",
    "    # and set poly_sframe['power_1'] equal to the passed feature\n",
    "    poly_sframe['power_1'] = feature\n",
    "    # first check if degree > 1\n",
    "    if degree > 1:\n",
    "        # then loop over the remaining degrees:\n",
    "        # range usually starts at 0 and stops at the endpoint-1. We want it to start at 2 and stop at degree\n",
    "        for power in range(2, degree+1): \n",
    "            # first we'll give the column a name:\n",
    "            name = 'power_' + str(power)\n",
    "            # then assign poly_sframe[name] to the appropriate power of feature\n",
    "            poly_sframe[name] = feature.apply(lambda x: x**power)\n",
    "    return poly_sframe    "
   ]
  },
  {
   "cell_type": "markdown",
   "metadata": {},
   "source": [
    "Let's use matplotlib to visualize what a polynomial regression looks like on the house data."
   ]
  },
  {
   "cell_type": "code",
   "execution_count": 3,
   "metadata": {
    "collapsed": false
   },
   "outputs": [
    {
     "name": "stderr",
     "output_type": "stream",
     "text": [
      "[INFO] \u001b[1;32m1452027446 : INFO:     (initialize_globals_from_environment:282): Setting configuration variable GRAPHLAB_FILEIO_ALTERNATIVE_SSL_CERT_FILE to /Users/administrator/.graphlab/anaconda/lib/python2.7/site-packages/certifi/cacert.pem\n",
      "\u001b[0m\u001b[1;32m1452027446 : INFO:     (initialize_globals_from_environment:282): Setting configuration variable GRAPHLAB_FILEIO_ALTERNATIVE_SSL_CERT_DIR to \n",
      "\u001b[0mThis non-commercial license of GraphLab Create is assigned to edwinfcampos@aol.com and will expire on December 04, 2016. For commercial licensing options, visit https://dato.com/buy/.\n",
      "\n",
      "[INFO] Start server at: ipc:///tmp/graphlab_server-65615 - Server binary: /Users/administrator/.graphlab/anaconda/lib/python2.7/site-packages/graphlab/unity_server - Server log: /tmp/graphlab_server_1452027446.log\n",
      "[INFO] GraphLab Server Version: 1.7.1\n"
     ]
    }
   ],
   "source": [
    "import matplotlib.pyplot as plt\n",
    "%matplotlib inline"
   ]
  },
  {
   "cell_type": "code",
   "execution_count": 4,
   "metadata": {
    "collapsed": false
   },
   "outputs": [],
   "source": [
    "sales = graphlab.SFrame('kc_house_data.gl/')"
   ]
  },
  {
   "cell_type": "markdown",
   "metadata": {},
   "source": [
    "As in Week 3, we will use the sqft_living variable. For plotting purposes (connecting the dots), you'll need to sort by the values of sqft_living. For houses with identical square footage, we break the tie by their prices."
   ]
  },
  {
   "cell_type": "code",
   "execution_count": 5,
   "metadata": {
    "collapsed": false
   },
   "outputs": [],
   "source": [
    "sales = sales.sort(['sqft_living','price'])"
   ]
  },
  {
   "cell_type": "markdown",
   "metadata": {},
   "source": [
    "Let us revisit the 15th-order polynomial model using the 'sqft_living' input. Generate polynomial features up to degree 15 using `polynomial_sframe()` and fit a model with these features. When fitting the model, use an L2 penalty of `1e-5`:"
   ]
  },
  {
   "cell_type": "code",
   "execution_count": 7,
   "metadata": {
    "collapsed": true
   },
   "outputs": [],
   "source": [
    "l2_small_penalty = 1e-5"
   ]
  },
  {
   "cell_type": "markdown",
   "metadata": {},
   "source": [
    "Note: When we have so many features and so few data points, the solution can become highly numerically unstable, which can sometimes lead to strange unpredictable results.  Thus, rather than using no regularization, we will introduce a tiny amount of regularization (`l2_penalty=1e-5`) to make the solution numerically stable.  (In lecture, we discussed the fact that regularization can also help with numerical stability, and here we are seeing a practical example.)\n",
    "\n",
    "With the L2 penalty specified above, fit the model and print out the learned weights.\n",
    "\n",
    "Hint: make sure to add 'price' column to the new SFrame before calling `graphlab.linear_regression.create()`. Also, make sure GraphLab Create doesn't create its own validation set by using the option `validation_set=None` in this call."
   ]
  },
  {
   "cell_type": "code",
   "execution_count": 8,
   "metadata": {
    "collapsed": false
   },
   "outputs": [],
   "source": [
    "deg=15  # Polynomio of degree 15 = a x^15 + b X^14 + ... + p X^0\n",
    "poly15_sales = polynomial_sframe(sales['sqft_living'], deg)\n",
    "my_features = poly15_sales.column_names() \n",
    "poly15_sales['price'] = sales['price']\n",
    "model_ridge_poly15_sales = graphlab.linear_regression.create(poly15_sales, target = 'price', features = my_features, \n",
    "                                                                l2_penalty=l2_small_penalty,validation_set = None,\n",
    "                                                                verbose=False)\n",
    "#model_ridge_poly15_sales = graphlab.linear_regression.create(polynomial_features(poly15_sales,deg), \n",
    "#                                              target='price', l2_penalty=l2_small_penalty,\n",
    "#                                              validation_set=None,verbose=False)\n",
    "        "
   ]
  },
  {
   "cell_type": "markdown",
   "metadata": {},
   "source": [
    "***QUIZ QUESTION:  What's the learned value for the coefficient of feature `power_1`?***"
   ]
  },
  {
   "cell_type": "code",
   "execution_count": 9,
   "metadata": {
    "collapsed": false
   },
   "outputs": [
    {
     "name": "stdout",
     "output_type": "stream",
     "text": [
      "+-------------+-------+--------------------+\n",
      "|     name    | index |       value        |\n",
      "+-------------+-------+--------------------+\n",
      "| (intercept) |  None |   167924.855861    |\n",
      "|   power_1   |  None |    103.09095592    |\n",
      "|   power_2   |  None |   0.13460454755    |\n",
      "|   power_3   |  None | -0.000129071363621 |\n",
      "|   power_4   |  None | 5.18928964915e-08  |\n",
      "|   power_5   |  None | -7.77169343059e-12 |\n",
      "|   power_6   |  None | 1.71144917832e-16  |\n",
      "|   power_7   |  None | 4.51177946027e-20  |\n",
      "|   power_8   |  None | -4.78840959928e-25 |\n",
      "|   power_9   |  None | -2.33343401694e-28 |\n",
      "|   power_10  |  None | -7.29021980005e-33 |\n",
      "|   power_11  |  None | 7.22828482444e-37  |\n",
      "|   power_12  |  None | 6.90470640373e-41  |\n",
      "|   power_13  |  None | -3.65841502981e-46 |\n",
      "|   power_14  |  None | -3.79575904401e-49 |\n",
      "|   power_15  |  None | 1.13723105979e-53  |\n",
      "+-------------+-------+--------------------+\n",
      "[16 rows x 3 columns]\n",
      "\n"
     ]
    }
   ],
   "source": [
    "model_ridge_poly15_sales.get(\"coefficients\").print_rows(num_rows = 16)"
   ]
  },
  {
   "cell_type": "markdown",
   "metadata": {},
   "source": [
    "# Observe overfitting"
   ]
  },
  {
   "cell_type": "markdown",
   "metadata": {},
   "source": [
    "Recall from Week 3 that the polynomial fit of degree 15 changed wildly whenever the data changed. In particular, when we split the sales data into four subsets and fit the model of degree 15, the result came out to be very different for each subset. The model had a *high variance*. We will see in a moment that ridge regression reduces such variance. But first, we must reproduce the experiment we did in Week 3."
   ]
  },
  {
   "cell_type": "markdown",
   "metadata": {},
   "source": [
    "First, split the data into split the sales data into four subsets of roughly equal size and call them `set_1`, `set_2`, `set_3`, and `set_4`. Use `.random_split` function and make sure you set `seed=0`. "
   ]
  },
  {
   "cell_type": "code",
   "execution_count": 10,
   "metadata": {
    "collapsed": true
   },
   "outputs": [],
   "source": [
    "(semi_split1, semi_split2) = sales.random_split(.5,seed=0)\n",
    "(set_1, set_2) = semi_split1.random_split(0.5, seed=0)\n",
    "(set_3, set_4) = semi_split2.random_split(0.5, seed=0)"
   ]
  },
  {
   "cell_type": "markdown",
   "metadata": {},
   "source": [
    "Next, fit a 15th degree polynomial on `set_1`, `set_2`, `set_3`, and `set_4`, using 'sqft_living' to predict prices. Print the weights and make a plot of the resulting model.\n",
    "\n",
    "Hint: When calling `graphlab.linear_regression.create()`, use the same L2 penalty as before (i.e. `l2_small_penalty`).  Also, make sure GraphLab Create doesn't create its own validation set by using the option `validation_set = None` in this call."
   ]
  },
  {
   "cell_type": "code",
   "execution_count": 11,
   "metadata": {
    "collapsed": false
   },
   "outputs": [],
   "source": [
    "poly15_set_1 = polynomial_sframe(set_1['sqft_living'], deg)\n",
    "my_features_set_1 = poly15_set_1.column_names() \n",
    "poly15_set_1['price'] = set_1['price']\n",
    "model_ridge_poly15_set_1 = graphlab.linear_regression.create(poly15_set_1, \n",
    "                            target = 'price', \n",
    "                            features = my_features_set_1, \n",
    "                            l2_penalty=l2_small_penalty,\n",
    "                            validation_set = None,\n",
    "                            verbose=False)"
   ]
  },
  {
   "cell_type": "code",
   "execution_count": 50,
   "metadata": {
    "collapsed": false
   },
   "outputs": [],
   "source": [
    "poly15_set_2 = polynomial_sframe(set_2['sqft_living'], deg)\n",
    "my_features_set_2 = poly15_set_2.column_names() \n",
    "poly15_set_2['price'] = set_2['price']\n",
    "model_ridge_poly15_set_2 = graphlab.linear_regression.create(poly15_set_2, \n",
    "                            target = 'price', \n",
    "                            features = my_features_set_2, \n",
    "                            l2_penalty=l2_small_penalty,\n",
    "                            validation_set = None,\n",
    "                            verbose=False)"
   ]
  },
  {
   "cell_type": "code",
   "execution_count": 55,
   "metadata": {
    "collapsed": true
   },
   "outputs": [],
   "source": [
    "poly15_set_3 = polynomial_sframe(set_3['sqft_living'], deg)\n",
    "my_features_set_3 = poly15_set_3.column_names() \n",
    "poly15_set_3['price'] = set_3['price']\n",
    "model_ridge_poly15_set_3 = graphlab.linear_regression.create(poly15_set_3, \n",
    "                            target = 'price', \n",
    "                            features = my_features_set_3, \n",
    "                            l2_penalty=l2_small_penalty,\n",
    "                            validation_set = None,\n",
    "                            verbose=False)"
   ]
  },
  {
   "cell_type": "code",
   "execution_count": 56,
   "metadata": {
    "collapsed": true
   },
   "outputs": [],
   "source": [
    "poly15_set_4 = polynomial_sframe(set_4['sqft_living'], deg)\n",
    "my_features_set_4 = poly15_set_4.column_names() \n",
    "poly15_set_4['price'] = set_4['price']\n",
    "model_ridge_poly15_set_4 = graphlab.linear_regression.create(poly15_set_4, \n",
    "                            target = 'price', \n",
    "                            features = my_features_set_4, \n",
    "                            l2_penalty=l2_small_penalty,\n",
    "                            validation_set = None,\n",
    "                            verbose=False)"
   ]
  },
  {
   "cell_type": "code",
   "execution_count": 51,
   "metadata": {
    "collapsed": false,
    "scrolled": false
   },
   "outputs": [
    {
     "name": "stdout",
     "output_type": "stream",
     "text": [
      "model_ridge_poly15_set_1\n",
      "+-------------+-------+--------------------+\n",
      "|     name    | index |       value        |\n",
      "+-------------+-------+--------------------+\n",
      "| (intercept) |  None |    9306.4606221    |\n",
      "|   power_1   |  None |   585.865823394    |\n",
      "|   power_2   |  None |  -0.397305895643   |\n",
      "|   power_3   |  None | 0.000141470900599  |\n",
      "|   power_4   |  None | -1.52945989958e-08 |\n",
      "|   power_5   |  None | -3.79756325772e-13 |\n",
      "|   power_6   |  None | 5.97481763253e-17  |\n",
      "|   power_7   |  None | 1.06888504767e-20  |\n",
      "|   power_8   |  None | 1.59344027887e-25  |\n",
      "|   power_9   |  None | -6.92834984105e-29 |\n",
      "|   power_10  |  None | -6.83813287347e-33 |\n",
      "|   power_11  |  None | -1.62686187633e-37 |\n",
      "|   power_12  |  None | 2.85118758977e-41  |\n",
      "|   power_13  |  None |  3.7999811697e-45  |\n",
      "|   power_14  |  None | 1.52652629317e-49  |\n",
      "|   power_15  |  None | -2.33807306593e-53 |\n",
      "+-------------+-------+--------------------+\n",
      "[16 rows x 3 columns]\n",
      "\n"
     ]
    }
   ],
   "source": [
    "print 'model_ridge_poly15_set_1'\n",
    "model_ridge_poly15_set_1.get(\"coefficients\").print_rows(num_rows = 16)"
   ]
  },
  {
   "cell_type": "code",
   "execution_count": 52,
   "metadata": {
    "collapsed": false
   },
   "outputs": [
    {
     "name": "stdout",
     "output_type": "stream",
     "text": [
      "model_ridge_poly15_set_2\n",
      "+-------------+-------+--------------------+\n",
      "|     name    | index |       value        |\n",
      "+-------------+-------+--------------------+\n",
      "| (intercept) |  None |   -25115.9044254   |\n",
      "|   power_1   |  None |    783.49380028    |\n",
      "|   power_2   |  None |  -0.767759302942   |\n",
      "|   power_3   |  None | 0.000438766369254  |\n",
      "|   power_4   |  None | -1.15169166858e-07 |\n",
      "|   power_5   |  None | 6.84281360981e-12  |\n",
      "|   power_6   |  None | 2.51195187082e-15  |\n",
      "|   power_7   |  None | -2.06440608259e-19 |\n",
      "|   power_8   |  None | -4.59673022352e-23 |\n",
      "|   power_9   |  None | -2.71279236963e-29 |\n",
      "|   power_10  |  None | 6.21818431996e-31  |\n",
      "|   power_11  |  None | 6.51741386006e-35  |\n",
      "|   power_12  |  None | -9.41315944655e-40 |\n",
      "|   power_13  |  None | -1.02421371757e-42 |\n",
      "|   power_14  |  None | -1.00391094516e-46 |\n",
      "|   power_15  |  None | 1.30113365571e-50  |\n",
      "+-------------+-------+--------------------+\n",
      "[16 rows x 3 columns]\n",
      "\n"
     ]
    }
   ],
   "source": [
    "print 'model_ridge_poly15_set_2'\n",
    "model_ridge_poly15_set_2.get(\"coefficients\").print_rows(num_rows = 16)"
   ]
  },
  {
   "cell_type": "code",
   "execution_count": 57,
   "metadata": {
    "collapsed": false
   },
   "outputs": [
    {
     "name": "stdout",
     "output_type": "stream",
     "text": [
      "model_ridge_poly15_set_3\n",
      "+-------------+-------+--------------------+\n",
      "|     name    | index |       value        |\n",
      "+-------------+-------+--------------------+\n",
      "| (intercept) |  None |   462426.565731    |\n",
      "|   power_1   |  None |   -759.251842854   |\n",
      "|   power_2   |  None |    1.0286700473    |\n",
      "|   power_3   |  None | -0.000528264527386 |\n",
      "|   power_4   |  None | 1.15422908385e-07  |\n",
      "|   power_5   |  None | -2.26095948062e-12 |\n",
      "|   power_6   |  None | -2.08214287571e-15 |\n",
      "|   power_7   |  None | 4.08770475709e-20  |\n",
      "|   power_8   |  None |  2.570791329e-23   |\n",
      "|   power_9   |  None | 1.24311265196e-27  |\n",
      "|   power_10  |  None | -1.72025834939e-31 |\n",
      "|   power_11  |  None | -2.96761071315e-35 |\n",
      "|   power_12  |  None | -1.06574890499e-39 |\n",
      "|   power_13  |  None | 2.42635621458e-43  |\n",
      "|   power_14  |  None |  3.5559876473e-47  |\n",
      "|   power_15  |  None | -2.85777468723e-51 |\n",
      "+-------------+-------+--------------------+\n",
      "[16 rows x 3 columns]\n",
      "\n"
     ]
    }
   ],
   "source": [
    "print 'model_ridge_poly15_set_3'\n",
    "model_ridge_poly15_set_3.get(\"coefficients\").print_rows(num_rows = 16)"
   ]
  },
  {
   "cell_type": "code",
   "execution_count": 58,
   "metadata": {
    "collapsed": false
   },
   "outputs": [
    {
     "name": "stdout",
     "output_type": "stream",
     "text": [
      "model_ridge_poly15_set_4\n",
      "+-------------+-------+--------------------+\n",
      "|     name    | index |       value        |\n",
      "+-------------+-------+--------------------+\n",
      "| (intercept) |  None |   -170240.032842   |\n",
      "|   power_1   |  None |   1247.59034541    |\n",
      "|   power_2   |  None |   -1.22460912177   |\n",
      "|   power_3   |  None | 0.000555254626344  |\n",
      "|   power_4   |  None | -6.3826237386e-08  |\n",
      "|   power_5   |  None | -2.20215991142e-11 |\n",
      "|   power_6   |  None | 4.81834694285e-15  |\n",
      "|   power_7   |  None | 4.21461612787e-19  |\n",
      "|   power_8   |  None | -7.99880736276e-23 |\n",
      "|   power_9   |  None | -1.32365897487e-26 |\n",
      "|   power_10  |  None | 1.60197622166e-31  |\n",
      "|   power_11  |  None | 2.39904337319e-34  |\n",
      "|   power_12  |  None | 2.33354526328e-38  |\n",
      "|   power_13  |  None | -1.79874076395e-42 |\n",
      "|   power_14  |  None | -6.02862670261e-46 |\n",
      "|   power_15  |  None |  4.3947266757e-50  |\n",
      "+-------------+-------+--------------------+\n",
      "[16 rows x 3 columns]\n",
      "\n"
     ]
    }
   ],
   "source": [
    "print 'model_ridge_poly15_set_4'\n",
    "model_ridge_poly15_set_4.get(\"coefficients\").print_rows(num_rows = 16)"
   ]
  },
  {
   "cell_type": "code",
   "execution_count": 15,
   "metadata": {
    "collapsed": true
   },
   "outputs": [],
   "source": [
    "from matplotlib import pyplot as plt\n",
    "%matplotlib inline"
   ]
  },
  {
   "cell_type": "code",
   "execution_count": 53,
   "metadata": {
    "collapsed": false
   },
   "outputs": [
    {
     "data": {
      "text/plain": [
       "<matplotlib.text.Text at 0x111db8f90>"
      ]
     },
     "execution_count": 53,
     "metadata": {},
     "output_type": "execute_result"
    },
    {
     "data": {
      "image/png": "[encoded data removed]",
      "text/plain": [
       "<matplotlib.figure.Figure at 0x111d50710>"
      ]
     },
     "metadata": {},
     "output_type": "display_data"
    }
   ],
   "source": [
    "plt.plot(poly15_set_1['power_1'],poly15_set_1['price'],'.',\n",
    "         poly15_set_1['power_1'], model_ridge_poly15_set_1.predict(poly15_set_1),'-')\n",
    "plt.xlabel('power_1')\n",
    "plt.ylabel('price')\n",
    "plt.title('model_ridge_poly15_set_1')"
   ]
  },
  {
   "cell_type": "code",
   "execution_count": 54,
   "metadata": {
    "collapsed": false
   },
   "outputs": [
    {
     "data": {
      "text/plain": [
       "<matplotlib.text.Text at 0x111965150>"
      ]
     },
     "execution_count": 54,
     "metadata": {},
     "output_type": "execute_result"
    },
    {
     "data": {
      "image/png": "[encoded data removed]",
      "text/plain": [
       "<matplotlib.figure.Figure at 0x111eb8150>"
      ]
     },
     "metadata": {},
     "output_type": "display_data"
    }
   ],
   "source": [
    "plt.plot(poly15_set_2['power_1'],poly15_set_2['price'],'.',\n",
    "         poly15_set_2['power_1'], model_ridge_poly15_set_2.predict(poly15_set_2),'-')\n",
    "plt.xlabel('power_1')\n",
    "plt.ylabel('price')\n",
    "plt.title('model_ridge_poly15_set_2')"
   ]
  },
  {
   "cell_type": "code",
   "execution_count": 59,
   "metadata": {
    "collapsed": false
   },
   "outputs": [
    {
     "data": {
      "text/plain": [
       "<matplotlib.text.Text at 0x1116a4310>"
      ]
     },
     "execution_count": 59,
     "metadata": {},
     "output_type": "execute_result"
    },
    {
     "data": {
      "image/png": "[encoded data removed]",
      "text/plain": [
       "<matplotlib.figure.Figure at 0x111ab5450>"
      ]
     },
     "metadata": {},
     "output_type": "display_data"
    }
   ],
   "source": [
    "plt.plot(poly15_set_3['power_1'],poly15_set_3['price'],'.',\n",
    "         poly15_set_3['power_1'], model_ridge_poly15_set_3.predict(poly15_set_3),'-')\n",
    "plt.xlabel('power_1')\n",
    "plt.ylabel('price')\n",
    "plt.title('model_ridge_poly15_set_1')"
   ]
  },
  {
   "cell_type": "code",
   "execution_count": 60,
   "metadata": {
    "collapsed": false
   },
   "outputs": [
    {
     "data": {
      "text/plain": [
       "<matplotlib.text.Text at 0x11151ed10>"
      ]
     },
     "execution_count": 60,
     "metadata": {},
     "output_type": "execute_result"
    },
    {
     "data": {
      "image/png": "[encoded data removed]",
      "text/plain": [
       "<matplotlib.figure.Figure at 0x1116d0790>"
      ]
     },
     "metadata": {},
     "output_type": "display_data"
    }
   ],
   "source": [
    "plt.plot(poly15_set_4['power_1'],poly15_set_4['price'],'.',\n",
    "         poly15_set_4['power_1'], model_ridge_poly15_set_4.predict(poly15_set_4),'-')\n",
    "plt.xlabel('power_1')\n",
    "plt.ylabel('price')\n",
    "plt.title('model_ridge_poly15_set_1')"
   ]
  },
  {
   "cell_type": "markdown",
   "metadata": {},
   "source": [
    "The four curves should differ from one another a lot, as should the coefficients you learned.\n",
    "\n",
    "***QUIZ QUESTION:  For the models learned in each of these training sets, what are the smallest and largest values you learned for the coefficient of feature `power_1`?***  (For the purpose of answering this question, negative numbers are considered \"smaller\" than positive numbers. So -5 is smaller than -3, and -3 is smaller than 5 and so forth.)"
   ]
  },
  {
   "cell_type": "markdown",
   "metadata": {},
   "source": [
    "# Ridge regression comes to rescue"
   ]
  },
  {
   "cell_type": "markdown",
   "metadata": {},
   "source": [
    "Generally, whenever we see weights change so much in response to change in data, we believe the variance of our estimate to be large. Ridge regression aims to address this issue by penalizing \"large\" weights. (Weights of `model15` looked quite small, but they are not that small because 'sqft_living' input is in the order of thousands.)\n",
    "\n",
    "With the argument `l2_penalty=1e5`, fit a 15th-order polynomial model on `set_1`, `set_2`, `set_3`, and `set_4`. Other than the change in the `l2_penalty` parameter, the code should be the same as the experiment above. Also, make sure GraphLab Create doesn't create its own validation set by using the option `validation_set = None` in this call."
   ]
  },
  {
   "cell_type": "code",
   "execution_count": 62,
   "metadata": {
    "collapsed": false,
    "scrolled": false
   },
   "outputs": [],
   "source": [
    "l2_large_penalty=1e5"
   ]
  },
  {
   "cell_type": "code",
   "execution_count": 69,
   "metadata": {
    "collapsed": false,
    "scrolled": false
   },
   "outputs": [],
   "source": [
    "model_ridge_poly15_set_1l = graphlab.linear_regression.create(poly15_set_1, \n",
    "                            target = 'price', \n",
    "                            features = my_features_set_1, \n",
    "                            l2_penalty=l2_large_penalty,\n",
    "                            validation_set = None,\n",
    "                            verbose=False)\n",
    "model_ridge_poly15_set_2l = graphlab.linear_regression.create(poly15_set_2, \n",
    "                            target = 'price', \n",
    "                            features = my_features_set_2, \n",
    "                            l2_penalty=l2_large_penalty,\n",
    "                            validation_set = None,\n",
    "                            verbose=False)\n",
    "model_ridge_poly15_set_3l = graphlab.linear_regression.create(poly15_set_3, \n",
    "                            target = 'price', \n",
    "                            features = my_features_set_3, \n",
    "                            l2_penalty=l2_large_penalty,\n",
    "                            validation_set = None,\n",
    "                            verbose=False)\n",
    "model_ridge_poly15_set_4l = graphlab.linear_regression.create(poly15_set_4, \n",
    "                            target = 'price', \n",
    "                            features = my_features_set_4, \n",
    "                            l2_penalty=l2_large_penalty,\n",
    "                            validation_set = None,\n",
    "                            verbose=False)"
   ]
  },
  {
   "cell_type": "code",
   "execution_count": 71,
   "metadata": {
    "collapsed": false
   },
   "outputs": [
    {
     "name": "stdout",
     "output_type": "stream",
     "text": [
      "model_ridge_poly15_set_1l\n",
      "+-------------+-------+-------------------+\n",
      "|     name    | index |       value       |\n",
      "+-------------+-------+-------------------+\n",
      "| (intercept) |  None |   530317.024516   |\n",
      "|   power_1   |  None |   2.58738875673   |\n",
      "|   power_2   |  None |  0.00127414400592 |\n",
      "|   power_3   |  None | 1.74934226932e-07 |\n",
      "|   power_4   |  None | 1.06022119097e-11 |\n",
      "|   power_5   |  None | 5.42247604482e-16 |\n",
      "|   power_6   |  None | 2.89563828343e-20 |\n",
      "|   power_7   |  None | 1.65000666351e-24 |\n",
      "|   power_8   |  None | 9.86081528409e-29 |\n",
      "|   power_9   |  None | 6.06589348254e-33 |\n",
      "|   power_10  |  None |  3.7891786887e-37 |\n",
      "|   power_11  |  None | 2.38223121312e-41 |\n",
      "|   power_12  |  None | 1.49847969215e-45 |\n",
      "|   power_13  |  None | 9.39161190285e-50 |\n",
      "|   power_14  |  None | 5.84523161981e-54 |\n",
      "|   power_15  |  None | 3.60120207203e-58 |\n",
      "+-------------+-------+-------------------+\n",
      "[16 rows x 3 columns]\n",
      "\n",
      "model_ridge_poly15_set_2l\n",
      "+-------------+-------+-------------------+\n",
      "|     name    | index |       value       |\n",
      "+-------------+-------+-------------------+\n",
      "| (intercept) |  None |   519216.897383   |\n",
      "|   power_1   |  None |   2.04470474182   |\n",
      "|   power_2   |  None |  0.0011314362684  |\n",
      "|   power_3   |  None | 2.93074277549e-07 |\n",
      "|   power_4   |  None | 4.43540598453e-11 |\n",
      "|   power_5   |  None | 4.80849112204e-15 |\n",
      "|   power_6   |  None | 4.53091707826e-19 |\n",
      "|   power_7   |  None | 4.16042910575e-23 |\n",
      "|   power_8   |  None | 3.90094635128e-27 |\n",
      "|   power_9   |  None |  3.7773187602e-31 |\n",
      "|   power_10  |  None | 3.76650326842e-35 |\n",
      "|   power_11  |  None | 3.84228094754e-39 |\n",
      "|   power_12  |  None | 3.98520828414e-43 |\n",
      "|   power_13  |  None | 4.18272762394e-47 |\n",
      "|   power_14  |  None | 4.42738332878e-51 |\n",
      "|   power_15  |  None | 4.71518245412e-55 |\n",
      "+-------------+-------+-------------------+\n",
      "[16 rows x 3 columns]\n",
      "\n",
      "model_ridge_poly15_set_3l\n",
      "+-------------+-------+-------------------+\n",
      "|     name    | index |       value       |\n",
      "+-------------+-------+-------------------+\n",
      "| (intercept) |  None |   522911.518048   |\n",
      "|   power_1   |  None |   2.26890421877   |\n",
      "|   power_2   |  None |  0.00125905041842 |\n",
      "|   power_3   |  None | 2.77552918155e-07 |\n",
      "|   power_4   |  None |  3.2093309779e-11 |\n",
      "|   power_5   |  None | 2.87573572364e-15 |\n",
      "|   power_6   |  None | 2.50076112671e-19 |\n",
      "|   power_7   |  None | 2.24685265906e-23 |\n",
      "|   power_8   |  None | 2.09349983135e-27 |\n",
      "|   power_9   |  None | 2.00435383296e-31 |\n",
      "|   power_10  |  None | 1.95410800249e-35 |\n",
      "|   power_11  |  None | 1.92734119456e-39 |\n",
      "|   power_12  |  None | 1.91483699013e-43 |\n",
      "|   power_13  |  None | 1.91102277046e-47 |\n",
      "|   power_14  |  None | 1.91246242302e-51 |\n",
      "|   power_15  |  None | 1.91699558035e-55 |\n",
      "+-------------+-------+-------------------+\n",
      "[16 rows x 3 columns]\n",
      "\n",
      "model_ridge_poly15_set_4l\n",
      "+-------------+-------+-------------------+\n",
      "|     name    | index |       value       |\n",
      "+-------------+-------+-------------------+\n",
      "| (intercept) |  None |   513667.087087   |\n",
      "|   power_1   |  None |   1.91040938244   |\n",
      "|   power_2   |  None |  0.00110058029175 |\n",
      "|   power_3   |  None | 3.12753987879e-07 |\n",
      "|   power_4   |  None | 5.50067886825e-11 |\n",
      "|   power_5   |  None | 7.20467557825e-15 |\n",
      "|   power_6   |  None | 8.24977249384e-19 |\n",
      "|   power_7   |  None | 9.06503223498e-23 |\n",
      "|   power_8   |  None | 9.95683160453e-27 |\n",
      "|   power_9   |  None | 1.10838127982e-30 |\n",
      "|   power_10  |  None | 1.25315224143e-34 |\n",
      "|   power_11  |  None | 1.43600781402e-38 |\n",
      "|   power_12  |  None |  1.662699678e-42  |\n",
      "|   power_13  |  None |  1.9398172453e-46 |\n",
      "|   power_14  |  None |  2.2754148577e-50 |\n",
      "|   power_15  |  None | 2.67948784897e-54 |\n",
      "+-------------+-------+-------------------+\n",
      "[16 rows x 3 columns]\n",
      "\n"
     ]
    }
   ],
   "source": [
    "print 'model_ridge_poly15_set_1l'\n",
    "model_ridge_poly15_set_1l.get(\"coefficients\").print_rows(num_rows = 16)\n",
    "print 'model_ridge_poly15_set_2l'\n",
    "model_ridge_poly15_set_2l.get(\"coefficients\").print_rows(num_rows = 16)\n",
    "print 'model_ridge_poly15_set_3l'\n",
    "model_ridge_poly15_set_3l.get(\"coefficients\").print_rows(num_rows = 16)\n",
    "print 'model_ridge_poly15_set_4l'\n",
    "model_ridge_poly15_set_4l.get(\"coefficients\").print_rows(num_rows = 16)"
   ]
  },
  {
   "cell_type": "code",
   "execution_count": 79,
   "metadata": {
    "collapsed": false
   },
   "outputs": [
    {
     "data": {
      "text/plain": [
       "<matplotlib.text.Text at 0x112b0cdd0>"
      ]
     },
     "execution_count": 79,
     "metadata": {},
     "output_type": "execute_result"
    },
    {
     "data": {
      "image/png": "[encoded data removed]",
      "text/plain": [
       "<matplotlib.figure.Figure at 0x112a43390>"
      ]
     },
     "metadata": {},
     "output_type": "display_data"
    }
   ],
   "source": [
    "plt.plot(poly15_set_1['power_1'],poly15_set_1['price'],'.', label='obs')\n",
    "plt.plot(poly15_set_1['power_1'], model_ridge_poly15_set_1l.predict(poly15_set_1),'-', label='1l')\n",
    "plt.plot(poly15_set_2['power_1'], model_ridge_poly15_set_2l.predict(poly15_set_2),'-', label='2l')\n",
    "plt.plot(poly15_set_3['power_1'], model_ridge_poly15_set_3l.predict(poly15_set_3),'-', label='3l')\n",
    "plt.plot(poly15_set_4['power_1'], model_ridge_poly15_set_4l.predict(poly15_set_4),'-', label='4l')\n",
    "plt.legend(loc='upper left')\n",
    "plt.xlabel('power_1')\n",
    "plt.ylabel('price')\n",
    "plt.title('model_ridge_poly15_set_il, with l2_penalty=1e5')"
   ]
  },
  {
   "cell_type": "markdown",
   "metadata": {},
   "source": [
    "These curves should vary a lot less, now that you applied a high degree of regularization.\n",
    "\n",
    "***QUIZ QUESTION:  For the models learned with the high level of regularization in each of these training sets, what are the smallest and largest values you learned for the coefficient of feature `power_1`?*** (For the purpose of answering this question, negative numbers are considered \"smaller\" than positive numbers. So -5 is smaller than -3, and -3 is smaller than 5 and so forth.)"
   ]
  },
  {
   "cell_type": "markdown",
   "metadata": {},
   "source": [
    "# Selecting an L2 penalty via cross-validation"
   ]
  },
  {
   "cell_type": "markdown",
   "metadata": {},
   "source": [
    "Just like the polynomial degree, the L2 penalty is a \"magic\" parameter we need to select. We could use the validation set approach as we did in the last module, but that approach has a major disadvantage: it leaves fewer observations available for training. **Cross-validation** seeks to overcome this issue by using all of the training set in a smart way.\n",
    "\n",
    "We will implement a kind of cross-validation called **k-fold cross-validation**. The method gets its name because it involves dividing the training set into k segments of roughtly equal size. Similar to the validation set method, we measure the validation error with one of the segments designated as the validation set. The major difference is that we repeat the process k times as follows:\n",
    "\n",
    "Set aside segment 0 as the validation set, and fit a model on rest of data, and evalutate it on this validation set<br>\n",
    "Set aside segment 1 as the validation set, and fit a model on rest of data, and evalutate it on this validation set<br>\n",
    "...<br>\n",
    "Set aside segment k-1 as the validation set, and fit a model on rest of data, and evalutate it on this validation set\n",
    "\n",
    "After this process, we compute the average of the k validation errors, and use it as an estimate of the generalization error. Notice that  all observations are used for both training and validation, as we iterate over segments of data. \n",
    "\n",
    "To estimate the generalization error well, it is crucial to shuffle the training data before dividing them into segments. GraphLab Create has a utility function for shuffling a given SFrame. We reserve 10% of the data as the test set and shuffle the remainder. (Make sure to use `seed=1` to get consistent answer.)"
   ]
  },
  {
   "cell_type": "code",
   "execution_count": 81,
   "metadata": {
    "collapsed": true
   },
   "outputs": [],
   "source": [
    "(train_valid, test) = sales.random_split(.9, seed=1)\n",
    "train_valid_shuffled = graphlab.toolkits.cross_validation.shuffle(train_valid, random_seed=1)"
   ]
  },
  {
   "cell_type": "markdown",
   "metadata": {},
   "source": [
    "Once the data is shuffled, we divide it into equal segments. Each segment should receive `n/k` elements, where `n` is the number of observations in the training set and `k` is the number of segments. Since the segment 0 starts at index 0 and contains `n/k` elements, it ends at index `(n/k)-1`. The segment 1 starts where the segment 0 left off, at index `(n/k)`. With `n/k` elements, the segment 1 ends at index `(n*2/k)-1`. Continuing in this fashion, we deduce that the segment `i` starts at index `(n*i/k)` and ends at `(n*(i+1)/k)-1`."
   ]
  },
  {
   "cell_type": "markdown",
   "metadata": {},
   "source": [
    "With this pattern in mind, we write a short loop that prints the starting and ending indices of each segment, just to make sure you are getting the splits right."
   ]
  },
  {
   "cell_type": "code",
   "execution_count": 82,
   "metadata": {
    "collapsed": false
   },
   "outputs": [
    {
     "name": "stdout",
     "output_type": "stream",
     "text": [
      "0 (0, 1938)\n",
      "1 (1939, 3878)\n",
      "2 (3879, 5817)\n",
      "3 (5818, 7757)\n",
      "4 (7758, 9697)\n",
      "5 (9698, 11636)\n",
      "6 (11637, 13576)\n",
      "7 (13577, 15515)\n",
      "8 (15516, 17455)\n",
      "9 (17456, 19395)\n"
     ]
    }
   ],
   "source": [
    "n = len(train_valid_shuffled)\n",
    "k = 10 # 10-fold cross-validation\n",
    "\n",
    "for i in xrange(k):\n",
    "    start = (n*i)/k\n",
    "    end = (n*(i+1))/k-1\n",
    "    print i, (start, end)"
   ]
  },
  {
   "cell_type": "markdown",
   "metadata": {
    "collapsed": false
   },
   "source": [
    "Let us familiarize ourselves with array slicing with SFrame. To extract a continuous slice from an SFrame, use colon in square brackets. For instance, the following cell extracts rows 0 to 9 of `train_valid_shuffled`. Notice that the first index (0) is included in the slice but the last index (10) is omitted."
   ]
  },
  {
   "cell_type": "code",
   "execution_count": 87,
   "metadata": {
    "collapsed": false
   },
   "outputs": [],
   "source": [
    "#train_valid_shuffled[0:10] # rows 0 to 9"
   ]
  },
  {
   "cell_type": "markdown",
   "metadata": {},
   "source": [
    "Now let us extract individual segments with array slicing. Consider the scenario where we group the houses in the `train_valid_shuffled` dataframe into k=10 segments of roughly equal size, with starting and ending indices computed as above.\n",
    "Extract the fourth segment (segment 3) and assign it to a variable called `validation4`."
   ]
  },
  {
   "cell_type": "code",
   "execution_count": 85,
   "metadata": {
    "collapsed": false
   },
   "outputs": [],
   "source": [
    "validation4 = train_valid_shuffled[5818: 7757+1]"
   ]
  },
  {
   "cell_type": "markdown",
   "metadata": {},
   "source": [
    "To verify that we have the right elements extracted, run the following cell, which computes the average price of the fourth segment. When rounded to nearest whole number, the average should be $536,234."
   ]
  },
  {
   "cell_type": "code",
   "execution_count": 86,
   "metadata": {
    "collapsed": false
   },
   "outputs": [
    {
     "name": "stdout",
     "output_type": "stream",
     "text": [
      "536234\n"
     ]
    }
   ],
   "source": [
    "print int(round(validation4['price'].mean(), 0))"
   ]
  },
  {
   "cell_type": "markdown",
   "metadata": {},
   "source": [
    "After designating one of the k segments as the validation set, we train a model using the rest of the data. To choose the remainder, we slice (0:start) and (end+1:n) of the data and paste them together. SFrame has `append()` method that pastes together two disjoint sets of rows originating from a common dataset. For instance, the following cell pastes together the first and last two rows of the `train_valid_shuffled` dataframe."
   ]
  },
  {
   "cell_type": "code",
   "execution_count": 88,
   "metadata": {
    "collapsed": false
   },
   "outputs": [
    {
     "name": "stdout",
     "output_type": "stream",
     "text": [
      "+------------+---------------------------+-----------+----------+-----------+\n",
      "|     id     |            date           |   price   | bedrooms | bathrooms |\n",
      "+------------+---------------------------+-----------+----------+-----------+\n",
      "| 2780400035 | 2014-05-05 00:00:00+00:00 |  665000.0 |   4.0    |    2.5    |\n",
      "| 1703050500 | 2015-03-21 00:00:00+00:00 |  645000.0 |   3.0    |    2.5    |\n",
      "| 4139480190 | 2014-09-16 00:00:00+00:00 | 1153000.0 |   3.0    |    3.25   |\n",
      "| 7237300290 | 2015-03-26 00:00:00+00:00 |  338000.0 |   5.0    |    2.5    |\n",
      "+------------+---------------------------+-----------+----------+-----------+\n",
      "+-------------+----------+--------+------------+------+-----------+-------+------------+\n",
      "| sqft_living | sqft_lot | floors | waterfront | view | condition | grade | sqft_above |\n",
      "+-------------+----------+--------+------------+------+-----------+-------+------------+\n",
      "|    2800.0   |   5900   |   1    |     0      |  0   |     3     |   8   |    1660    |\n",
      "|    2490.0   |   5978   |   2    |     0      |  0   |     3     |   9   |    2490    |\n",
      "|    3780.0   |  10623   |   1    |     0      |  1   |     3     |   11  |    2650    |\n",
      "|    2400.0   |   4496   |   2    |     0      |  0   |     3     |   7   |    2400    |\n",
      "+-------------+----------+--------+------------+------+-----------+-------+------------+\n",
      "+---------------+----------+--------------+---------+-------------+\n",
      "| sqft_basement | yr_built | yr_renovated | zipcode |     lat     |\n",
      "+---------------+----------+--------------+---------+-------------+\n",
      "|      1140     |   1963   |      0       |  98115  | 47.68093246 |\n",
      "|       0       |   2003   |      0       |  98074  | 47.62984888 |\n",
      "|      1130     |   1999   |      0       |  98006  | 47.55061236 |\n",
      "|       0       |   2004   |      0       |  98042  | 47.36923712 |\n",
      "+---------------+----------+--------------+---------+-------------+\n",
      "+---------------+---------------+-----+\n",
      "|      long     | sqft_living15 | ... |\n",
      "+---------------+---------------+-----+\n",
      "| -122.28583258 |     2580.0    | ... |\n",
      "| -122.02177564 |     2710.0    | ... |\n",
      "| -122.10144844 |     3850.0    | ... |\n",
      "| -122.12606473 |     1880.0    | ... |\n",
      "+---------------+---------------+-----+\n",
      "[4 rows x 21 columns]\n",
      "\n"
     ]
    }
   ],
   "source": [
    "n = len(train_valid_shuffled)\n",
    "first_two = train_valid_shuffled[0:2]\n",
    "last_two = train_valid_shuffled[n-2:n]\n",
    "print first_two.append(last_two)"
   ]
  },
  {
   "cell_type": "markdown",
   "metadata": {},
   "source": [
    "Extract the remainder of the data after *excluding* fourth segment (segment 3) and assign the subset to `train4`."
   ]
  },
  {
   "cell_type": "code",
   "execution_count": 92,
   "metadata": {
    "collapsed": false
   },
   "outputs": [],
   "source": [
    "# Recall that n = 19396\n",
    "first_train4 = train_valid_shuffled[0:5817+1]\n",
    "last_train4 = train_valid_shuffled[7758:n]\n",
    "train4 = first_train4.append(last_train4)"
   ]
  },
  {
   "cell_type": "markdown",
   "metadata": {},
   "source": [
    "To verify that we have the right elements extracted, run the following cell, which computes the average price of the data with fourth segment excluded. When rounded to nearest whole number, the average should be $539,450."
   ]
  },
  {
   "cell_type": "code",
   "execution_count": 93,
   "metadata": {
    "collapsed": false
   },
   "outputs": [
    {
     "name": "stdout",
     "output_type": "stream",
     "text": [
      "539450\n"
     ]
    }
   ],
   "source": [
    "print int(round(train4['price'].mean(), 0))"
   ]
  },
  {
   "cell_type": "markdown",
   "metadata": {},
   "source": [
    "Now we are ready to implement k-fold cross-validation. Write a function that computes k validation errors by designating each of the k segments as the validation set. It accepts as parameters (i) `k`, (ii) `l2_penalty`, (iii) dataframe, (iv) name of output column (e.g. `price`) and (v) list of feature names. The function returns the average validation error using k segments as validation sets.\n",
    "\n",
    "* For each i in [0, 1, ..., k-1]:\n",
    "  * Compute starting and ending indices of segment i and call 'start' and 'end'\n",
    "  * Form validation set by taking a slice (start:end+1) from the data.\n",
    "  * Form training set by appending slice (end+1:n) to the end of slice (0:start).\n",
    "  * Train a linear model using training set just formed, with a given l2_penalty\n",
    "  * Compute validation error using validation set just formed"
   ]
  },
  {
   "cell_type": "code",
   "execution_count": 100,
   "metadata": {
    "collapsed": false
   },
   "outputs": [],
   "source": [
    "def k_fold_cross_validation(k, l2_penalty, data, output_name, features_list):\n",
    "    n = len(data)\n",
    "    RSS_validation = np.empty(k)\n",
    "    for i in xrange(k):\n",
    "        # Compute starting and ending indices of segment i\n",
    "        start = (n*i)/k\n",
    "        end = (n*(i+1))/k-1\n",
    "        # Form validation set\n",
    "        validation_i = data[start: end+1]\n",
    "        # Form training set\n",
    "        first_train_i = data[0:start]\n",
    "        last_train_i = data[end+1:n]\n",
    "        train_i = first_train_i.append(last_train_i)\n",
    "        # Train a linear model\n",
    "        model_ridge_linear_train_i = graphlab.linear_regression.create(train_i, \n",
    "                            target = output_name, \n",
    "                            features = features_list, \n",
    "                            l2_penalty=l2_penalty,\n",
    "                            validation_set = None,\n",
    "                            verbose=False)\n",
    "        # Compute validation error (RSS) using validation set just formed\n",
    "        validation_predictions = model_ridge_linear_train_i.predict(validation_i)\n",
    "        validation_output = validation_i[output_name]\n",
    "        # Compute the residuals/errors on Validation data\n",
    "        residuals = validation_output - validation_predictions\n",
    "        # Then square and add them up\n",
    "        residuals_square = residuals * residuals\n",
    "        RSS = residuals_square.sum()\n",
    "        # first we'll give the column a name:\n",
    "        RSS_validation[i] = RSS\n",
    "    average_validation_error = np.mean(RSS_validation)\n",
    "    return average_validation_error"
   ]
  },
  {
   "cell_type": "markdown",
   "metadata": {},
   "source": [
    "Once we have a function to compute the average validation error for a model, we can write a loop to find the model that minimizes the average validation error. Write a loop that does the following:\n",
    "* We will again be aiming to fit a 15th-order polynomial model using the `sqft_living` input\n",
    "* For `l2_penalty` in [10^1, 10^1.5, 10^2, 10^2.5, ..., 10^7] (to get this in Python, you can use this Numpy function: `np.logspace(1, 7, num=13)`.)\n",
    "    * Run 10-fold cross-validation with `l2_penalty`\n",
    "* Report which L2 penalty produced the lowest average validation error.\n",
    "\n",
    "Note: since the degree of the polynomial is now fixed to 15, to make things faster, you should generate polynomial features in advance and re-use them throughout the loop. Make sure to use `train_valid_shuffled` when generating polynomial features!"
   ]
  },
  {
   "cell_type": "code",
   "execution_count": 97,
   "metadata": {
    "collapsed": true
   },
   "outputs": [],
   "source": [
    "import numpy as np"
   ]
  },
  {
   "cell_type": "code",
   "execution_count": 101,
   "metadata": {
    "collapsed": false
   },
   "outputs": [
    {
     "name": "stdout",
     "output_type": "stream",
     "text": [
      "The lowest RSS using 10-fold cross validation corresponds to L2 penalty 1000.0\n"
     ]
    }
   ],
   "source": [
    "poly15_train_valid_shuffled = polynomial_sframe(train_valid_shuffled['sqft_living'], 15)\n",
    "features_list = poly15_train_valid_shuffled.column_names() \n",
    "poly15_train_valid_shuffled['price'] = train_valid_shuffled['price']\n",
    "fold_cv_k = 10\n",
    "l2_penalty = np.logspace(1, 7, num=13)\n",
    "avg_validation_error = dict()\n",
    "for L2 in l2_penalty:\n",
    "    average_validation_error_L2 = k_fold_cross_validation(fold_cv_k, L2, \n",
    "                               poly15_train_valid_shuffled, \n",
    "                               'price', features_list)\n",
    "    avg_validation_error.update({L2:average_validation_error_L2})\n",
    "\n",
    "optimal_L2_penalty = min(avg_validation_error, key=lambda k: avg_validation_error[k])\n",
    "print 'The lowest RSS using 10-fold cross-validation corresponds to L2 penalty', optimal_L2_penalty"
   ]
  },
  {
   "cell_type": "markdown",
   "metadata": {},
   "source": [
    "***QUIZ QUESTIONS:  What is the best value for the L2 penalty according to 10-fold validation?***"
   ]
  },
  {
   "cell_type": "code",
   "execution_count": 103,
   "metadata": {
    "collapsed": false
   },
   "outputs": [
    {
     "name": "stdout",
     "output_type": "stream",
     "text": [
      "{100000.0: 229361431260422.69, 316227.76601683791: 252940568728599.84, 100.0: 160908965822178.22, 3162.2776601683795: 123950009289897.62, 31.622776601683793: 287504229919123.38, 1000.0: 121192264451214.88, 10.0: 491826427768997.69, 31622.776601683792: 171728094842297.41, 10000.0: 136837175247519.03, 3162277.6601683795: 262819399742234.16, 316.22776601683796: 122090967326083.59, 1000000.0: 258682548441132.34, 10000000.0: 264889015377543.81}\n"
     ]
    }
   ],
   "source": [
    "print avg_validation_error"
   ]
  },
  {
   "cell_type": "code",
   "execution_count": 108,
   "metadata": {
    "collapsed": false
   },
   "outputs": [
    {
     "name": "stdout",
     "output_type": "stream",
     "text": [
      "[(10.0, 491826427768997.69), (31.622776601683793, 287504229919123.38), (100.0, 160908965822178.22), (316.22776601683796, 122090967326083.59), (1000.0, 121192264451214.88), (3162.2776601683795, 123950009289897.62), (10000.0, 136837175247519.03), (31622.776601683792, 171728094842297.41), (100000.0, 229361431260422.69), (316227.76601683791, 252940568728599.84), (1000000.0, 258682548441132.34), (3162277.6601683795, 262819399742234.16), (10000000.0, 264889015377543.81)]\n"
     ]
    }
   ],
   "source": [
    "# Create a list with the sorted dictionary values\n",
    "sorted_AVE = sorted(avg_validation_error.items())\n",
    "print sorted_AVE"
   ]
  },
  {
   "cell_type": "markdown",
   "metadata": {},
   "source": [
    "You may find it useful to plot the k-fold cross-validation errors you have obtained to better understand the behavior of the method.  "
   ]
  },
  {
   "cell_type": "code",
   "execution_count": 111,
   "metadata": {
    "collapsed": false
   },
   "outputs": [
    {
     "data": {
      "text/plain": [
       "<matplotlib.text.Text at 0x115c2e150>"
      ]
     },
     "execution_count": 111,
     "metadata": {},
     "output_type": "execute_result"
    },
    {
     "data": {
      "image/png": "[encoded data removed]",
      "text/plain": [
       "<matplotlib.figure.Figure at 0x115b966d0>"
      ]
     },
     "metadata": {},
     "output_type": "display_data"
    }
   ],
   "source": [
    "# Plot the l2_penalty values in the x axis and the cross-validation error in the y axis.\n",
    "# Using plt.xscale('log') will make your plot more intuitive.\n",
    "#plt.plot(avg_validation_error.keys(),avg_validation_error.values(),'-', label='4l')  # This will plot the unsorted dictionary\n",
    "plt.plot(sorted_AVE,'-', label='4l') # This will plot the sorted list\n",
    "plt.xscale('log')\n",
    "plt.xlabel('log(L2)')\n",
    "plt.ylabel('RSS.mean')\n",
    "plt.title('l2_penalty vs. 10-fold cross-validation error')\n"
   ]
  },
  {
   "cell_type": "markdown",
   "metadata": {},
   "source": [
    "Once you found the best value for the L2 penalty using cross-validation, it is important to retrain a final model on all of the training data using this value of `l2_penalty`.  This way, your final model will be trained on the entire dataset."
   ]
  },
  {
   "cell_type": "code",
   "execution_count": 112,
   "metadata": {
    "collapsed": true
   },
   "outputs": [],
   "source": [
    "#train_valid, test\n",
    "poly15_train_valid = polynomial_sframe(train_valid['sqft_living'], 15)\n",
    "my_features_train_valid = poly15_train_valid.column_names() \n",
    "poly15_train_valid['price'] = train_valid['price']\n",
    "model_ridge_poly15_train_valid = graphlab.linear_regression.create(poly15_train_valid, \n",
    "                            target = 'price', \n",
    "                            features = my_features_train_valid, \n",
    "                            l2_penalty=optimal_L2_penalty,\n",
    "                            validation_set = None,\n",
    "                            verbose=False)"
   ]
  },
  {
   "cell_type": "markdown",
   "metadata": {},
   "source": [
    "***QUIZ QUESTION: Using the best L2 penalty found above, train a model using all training data. What is the RSS on the TEST data of the model you learn with this L2 penalty? ***"
   ]
  },
  {
   "cell_type": "code",
   "execution_count": 113,
   "metadata": {
    "collapsed": false
   },
   "outputs": [
    {
     "name": "stdout",
     "output_type": "stream",
     "text": [
      "2.52897427447e+14\n"
     ]
    }
   ],
   "source": [
    "# Compute validation error (RSS) using TEST dataset\n",
    "validation_predictions = model_ridge_poly15_train_valid.predict(test)\n",
    "validation_output = test['price']\n",
    "# Compute the residuals/errors on Validation data\n",
    "residuals = validation_output - validation_predictions\n",
    "# Then square and add them up\n",
    "residuals_square = residuals * residuals\n",
    "RSS_test = residuals_square.sum()\n",
    "print RSS_test"
   ]
  }
 ],
 "metadata": {
  "kernelspec": {
   "display_name": "Python 2",
   "language": "python",
   "name": "python2"
  },
  "language_info": {
   "codemirror_mode": {
    "name": "ipython",
    "version": 2
   },
   "file_extension": ".py",
   "mimetype": "text/x-python",
   "name": "python",
   "nbconvert_exporter": "python",
   "pygments_lexer": "ipython2",
   "version": "2.7.11"
  }
 },
 "nbformat": 4,
 "nbformat_minor": 0
}
